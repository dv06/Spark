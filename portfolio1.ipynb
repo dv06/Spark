{
 "cells": [
  {
   "cell_type": "code",
   "execution_count": 19,
   "metadata": {},
   "outputs": [
    {
     "name": "stdout",
     "output_type": "stream",
     "text": [
      "Welcome to\n",
      "      ____              __\n",
      "     / __/__  ___ _____/ /__\n",
      "    _\\ \\/ _ \\/ _ `/ __/  '_/\n",
      "   /__ / .__/\\_,_/_/ /_/\\_\\   version 3.5.0\n",
      "      /_/\n",
      "\n",
      "Using Python version 3.11.5 (tags/v3.11.5:cce6ba9, Aug 24 2023 14:38:34)\n",
      "Spark context Web UI available at http://LAPTOP-93Q1EQTU:4042\n",
      "Spark context available as 'sc' (master = local[*], app id = local-1696266336532).\n",
      "SparkSession available as 'spark'.\n"
     ]
    }
   ],
   "source": [
    "import findspark\n",
    "findspark.init()\n",
    "import os\n",
    "exec(open(os.path.join(os.environ[\"SPARK_HOME\"], 'python/pyspark/shell.py')).read())\n",
    "from pyspark.sql.session import SparkSession\n",
    "spark = SparkSession.builder.appName(\"portfolio1\").getOrCreate()"
   ]
  },
  {
   "cell_type": "code",
   "execution_count": 20,
   "metadata": {},
   "outputs": [
    {
     "name": "stdout",
     "output_type": "stream",
     "text": [
      "+-----+---------------+----------+---------+--------------------+-----------------+--------------------+--------------------+--------------------+--------------------+-----------------+--------------------+\n",
      "|Index|    Customer Id|First Name|Last Name|             Company|             City|             Country|             Phone 1|             Phone 2|               Email|Subscription Date|             Website|\n",
      "+-----+---------------+----------+---------+--------------------+-----------------+--------------------+--------------------+--------------------+--------------------+-----------------+--------------------+\n",
      "|    1|DD37Cf93aecA6Dc|    Sheryl|   Baxter|     Rasmussen Group|     East Leonard|               Chile|        229.077.5154|    397.884.0519x718|zunigavanessa@smi...|       2020-08-24|http://www.stephe...|\n",
      "|    2|1Ef7b82A4CAAD10|   Preston|   Lozano|         Vega-Gentry|East Jimmychester|            Djibouti|          5153435776|    686-620-1820x944|     vmata@colon.com|       2021-04-23|http://www.hobbs....|\n",
      "|    3|6F94879bDAfE5a6|       Roy|    Berry|       Murillo-Perry|    Isabelborough| Antigua and Barbuda|     +1-539-402-0259| (496)978-3969x58947| beckycarr@hogan.com|       2020-03-25|http://www.lawren...|\n",
      "|    4|5Cef8BFA16c5e3c|     Linda|    Olsen|Dominguez, Mcmill...|       Bensonview|  Dominican Republic|001-808-617-6467x...|     +1-813-324-8756|stanleyblackwell@...|       2020-06-02|http://www.good-l...|\n",
      "|    5|053d585Ab6b3159|    Joanna|   Bender|     Rasmussen Group|   West Priscilla|Slovakia (Slovak ...|001-234-203-0635x...|001-199-446-3860x...|colinalvarado@mil...|       2021-04-17|https://goodwin-i...|\n",
      "+-----+---------------+----------+---------+--------------------+-----------------+--------------------+--------------------+--------------------+--------------------+-----------------+--------------------+\n",
      "\n",
      "root\n",
      " |-- Index: long (nullable = true)\n",
      " |-- Customer Id: string (nullable = true)\n",
      " |-- First Name: string (nullable = true)\n",
      " |-- Last Name: string (nullable = true)\n",
      " |-- Company: string (nullable = true)\n",
      " |-- City: string (nullable = true)\n",
      " |-- Country: string (nullable = true)\n",
      " |-- Phone 1: string (nullable = true)\n",
      " |-- Phone 2: string (nullable = true)\n",
      " |-- Email: string (nullable = true)\n",
      " |-- Subscription Date: string (nullable = true)\n",
      " |-- Website: string (nullable = true)\n",
      "\n"
     ]
    }
   ],
   "source": [
    "#Task 1- Create a Dataframe using the commands given.\n",
    "sample_data = sc.parallelize([\n",
    "(1,\"DD37Cf93aecA6Dc\",\"Sheryl\",\"Baxter\",\"Rasmussen Group\",\"East Leonard\",\"Chile\",\"229.077.5154\",\"397.884.0519x718\",\"zunigavanessa@smith.info\",\"2020-08-24\",\"http://www.stephenson.com/\"),\n",
    "(2,\"1Ef7b82A4CAAD10\",\"Preston\",\"Lozano\",\"Vega-Gentry\",\"East Jimmychester\",\"Djibouti\",\"5153435776\",\"686-620-1820x944\",\"vmata@colon.com\",\"2021-04-23\",\"http://www.hobbs.com/\"),\n",
    "(3,\"6F94879bDAfE5a6\",\"Roy\",\"Berry\",\"Murillo-Perry\",\"Isabelborough\",\"Antigua and Barbuda\",\"+1-539-402-0259\",\"(496)978-3969x58947\",\"beckycarr@hogan.com\",\"2020-03-25\",\"http://www.lawrence.com/\"),\n",
    "(4,\"5Cef8BFA16c5e3c\",\"Linda\",\"Olsen\",\"Dominguez, Mcmillan and Donovan\",\"Bensonview\",\"Dominican Republic\",\"001-808-617-6467x12895\",\"+1-813-324-8756\",\"stanleyblackwell@benson.org\",\"2020-06-02\",\"http://www.good-lyons.com/\"),\n",
    "(5,\"053d585Ab6b3159\",\"Joanna\",\"Bender\",\"Rasmussen Group\",\"West Priscilla\",\"Slovakia (Slovak Republic)\",\"001-234-203-0635x76146\",\"001-199-446-3860x3486\",\"colinalvarado@miles.net\",\"2021-04-17\",\"https://goodwin-ingram.com/\")\n",
    "\n",
    "])\n",
    "\n",
    "sample_data_df = spark.createDataFrame(\n",
    "sample_data\n",
    ", [\n",
    "\"Index\",\"Customer Id\",\"First Name\",\"Last Name\",\"Company\",\"City\",\"Country\",\"Phone 1\",\"Phone 2\",\"Email\",\"Subscription Date\",\"Website\"\n",
    "]\n",
    ")\n",
    "sample_data.take(1)\n",
    "sample_data_df.take(1)\n",
    "sample_data_df.show()\n",
    "sample_data_df.printSchema()"
   ]
  },
  {
   "cell_type": "code",
   "execution_count": 21,
   "metadata": {},
   "outputs": [
    {
     "name": "stdout",
     "output_type": "stream",
     "text": [
      "+-----+---------------+----------+---------+--------------------+-----------------+--------------------+--------------------+--------------------+--------------------+-----------------+--------------------+\n",
      "|Index|    Customer Id|First Name|Last Name|             Company|             City|             Country|             Phone 1|             Phone 2|               Email|Subscription Date|             Website|\n",
      "+-----+---------------+----------+---------+--------------------+-----------------+--------------------+--------------------+--------------------+--------------------+-----------------+--------------------+\n",
      "|    1|DD37Cf93aecA6Dc|    Sheryl|   Baxter|     Rasmussen Group|     East Leonard|               Chile|        229.077.5154|    397.884.0519x718|zunigavanessa@smi...|       2020-08-24|http://www.stephe...|\n",
      "|    2|1Ef7b82A4CAAD10|   Preston|   Lozano|         Vega-Gentry|East Jimmychester|            Djibouti|          5153435776|    686-620-1820x944|     vmata@colon.com|       2021-04-23|http://www.hobbs....|\n",
      "|    3|6F94879bDAfE5a6|       Roy|    Berry|       Murillo-Perry|    Isabelborough| Antigua and Barbuda|     +1-539-402-0259| (496)978-3969x58947| beckycarr@hogan.com|       2020-03-25|http://www.lawren...|\n",
      "|    4|5Cef8BFA16c5e3c|     Linda|    Olsen|Dominguez, Mcmill...|       Bensonview|  Dominican Republic|001-808-617-6467x...|     +1-813-324-8756|stanleyblackwell@...|       2020-06-02|http://www.good-l...|\n",
      "|    5|053d585Ab6b3159|    Joanna|   Bender|Martin, Lang and ...|   West Priscilla|Slovakia (Slovak ...|001-234-203-0635x...|001-199-446-3860x...|colinalvarado@mil...|       2021-04-17|https://goodwin-i...|\n",
      "+-----+---------------+----------+---------+--------------------+-----------------+--------------------+--------------------+--------------------+--------------------+-----------------+--------------------+\n",
      "\n",
      "root\n",
      " |-- Index: integer (nullable = true)\n",
      " |-- Customer Id: string (nullable = true)\n",
      " |-- First Name: string (nullable = true)\n",
      " |-- Last Name: string (nullable = true)\n",
      " |-- Company: string (nullable = true)\n",
      " |-- City: string (nullable = true)\n",
      " |-- Country: string (nullable = true)\n",
      " |-- Phone 1: string (nullable = true)\n",
      " |-- Phone 2: string (nullable = true)\n",
      " |-- Email: string (nullable = true)\n",
      " |-- Subscription Date: date (nullable = true)\n",
      " |-- Website: string (nullable = true)\n",
      "\n"
     ]
    }
   ],
   "source": [
    "#Task 2- Read Data from JSON and CSV files.\n",
    "\n",
    "# Reading data from CSV\n",
    "sample_data_csv = (\n",
    "spark\n",
    ".read\n",
    ".csv(\n",
    "'employees.csv'\n",
    ", header=True\n",
    ", inferSchema=True)\n",
    ")\n",
    "sample_data_csv.show()\n",
    "sample_data_csv.printSchema()"
   ]
  },
  {
   "cell_type": "code",
   "execution_count": 31,
   "metadata": {},
   "outputs": [
    {
     "name": "stdout",
     "output_type": "stream",
     "text": [
      "root\n",
      " |-- City: string (nullable = true)\n",
      " |-- Company: string (nullable = true)\n",
      " |-- Country: string (nullable = true)\n",
      " |-- Customer Id: string (nullable = true)\n",
      " |-- Email: string (nullable = true)\n",
      " |-- First Name: string (nullable = true)\n",
      " |-- Index: string (nullable = true)\n",
      " |-- Last Name: string (nullable = true)\n",
      " |-- Phone 1: string (nullable = true)\n",
      " |-- Phone 2: string (nullable = true)\n",
      " |-- Subscription Date: string (nullable = true)\n",
      " |-- Website\\r: string (nullable = true)\n",
      "\n",
      "+--------------------+---------------+-------------------+---------------+--------------------+----------+-----+---------+--------------------+--------------------+--------------------+--------------------+\n",
      "|                City|        Company|            Country|    Customer Id|               Email|First Name|Index|Last Name|             Phone 1|             Phone 2|   Subscription Date|           Website\\r|\n",
      "+--------------------+---------------+-------------------+---------------+--------------------+----------+-----+---------+--------------------+--------------------+--------------------+--------------------+\n",
      "|        East Leonard|Rasmussen Group|              Chile|DD37Cf93aecA6Dc|zunigavanessa@smi...|    Sheryl|    1|   Baxter|        229.077.5154|    397.884.0519x718|          2020-08-24|http://www.stephe...|\n",
      "|   East Jimmychester|    Vega-Gentry|           Djibouti|1Ef7b82A4CAAD10|     vmata@colon.com|   Preston|    2|   Lozano|          5153435776|    686-620-1820x944|          2021-04-23|http://www.hobbs....|\n",
      "|       Isabelborough|  Murillo-Perry|Antigua and Barbuda|6F94879bDAfE5a6| beckycarr@hogan.com|       Roy|    3|    Berry|     +1-539-402-0259| (496)978-3969x58947|          2020-03-25|http://www.lawren...|\n",
      "| Mcmillan and Don...|     \"Dominguez|         Bensonview|5Cef8BFA16c5e3c|     +1-813-324-8756|     Linda|    4|    Olsen|  Dominican Republic|001-808-617-6467x...|stanleyblackwell@...|          2020-06-02|\n",
      "|   Lang and Andrade\"|        \"Martin|     West Priscilla|053d585Ab6b3159|001-199-446-3860x...|    Joanna|    5|   Bender|Slovakia (Slovak ...|001-234-203-0635x...|colinalvarado@mil...|          2021-04-17|\n",
      "+--------------------+---------------+-------------------+---------------+--------------------+----------+-----+---------+--------------------+--------------------+--------------------+--------------------+\n",
      "\n"
     ]
    }
   ],
   "source": [
    "#Reading data from JSON\n",
    "sample_data_json_df = (\n",
    "spark\n",
    ".read\n",
    ".option(\"multiline\",\"true\")\n",
    ".option(\"mode\", \"PERMISSIVE\")\n",
    ".json('employees.json')\n",
    ")\n",
    "sample_data_json_df.printSchema()\n",
    "sample_data_json_df.show()"
   ]
  },
  {
   "cell_type": "code",
   "execution_count": 23,
   "metadata": {},
   "outputs": [
    {
     "name": "stdout",
     "output_type": "stream",
     "text": [
      "+-----+---------------+----------+---------+--------------------+-----------------+--------------------+--------------------+--------------------+--------------------+-----------------+--------------------+--------------+----------------+\n",
      "|Index|    Customer Id|First Name|Last Name|             Company|             City|             Country|             Phone 1|             Phone 2|               Email|Subscription Date|             Website|Email_Provider|  Email_UserName|\n",
      "+-----+---------------+----------+---------+--------------------+-----------------+--------------------+--------------------+--------------------+--------------------+-----------------+--------------------+--------------+----------------+\n",
      "|    1|DD37Cf93aecA6Dc|    Sheryl|   Baxter|     Rasmussen Group|     East Leonard|               Chile|        229.077.5154|    397.884.0519x718|zunigavanessa@smi...|       2020-08-24|http://www.stephe...|    smith.info|   zunigavanessa|\n",
      "|    2|1Ef7b82A4CAAD10|   Preston|   Lozano|         Vega-Gentry|East Jimmychester|            Djibouti|          5153435776|    686-620-1820x944|     vmata@colon.com|       2021-04-23|http://www.hobbs....|     colon.com|           vmata|\n",
      "|    3|6F94879bDAfE5a6|       Roy|    Berry|       Murillo-Perry|    Isabelborough| Antigua and Barbuda|     +1-539-402-0259| (496)978-3969x58947| beckycarr@hogan.com|       2020-03-25|http://www.lawren...|     hogan.com|       beckycarr|\n",
      "|    4|5Cef8BFA16c5e3c|     Linda|    Olsen|Dominguez, Mcmill...|       Bensonview|  Dominican Republic|001-808-617-6467x...|     +1-813-324-8756|stanleyblackwell@...|       2020-06-02|http://www.good-l...|    benson.org|stanleyblackwell|\n",
      "|    5|053d585Ab6b3159|    Joanna|   Bender|     Rasmussen Group|   West Priscilla|Slovakia (Slovak ...|001-234-203-0635x...|001-199-446-3860x...|colinalvarado@mil...|       2021-04-17|https://goodwin-i...|     miles.net|   colinalvarado|\n",
      "+-----+---------------+----------+---------+--------------------+-----------------+--------------------+--------------------+--------------------+--------------------+-----------------+--------------------+--------------+----------------+\n",
      "\n"
     ]
    }
   ],
   "source": [
    "# Task-3 Access underlying RDDS using relevant commands\n",
    "\n",
    "sample_data_df.rdd.take(1)\n",
    "sample_data.take(1)\n",
    "\n",
    "import pyspark.sql as sql\n",
    "import pyspark.sql.functions as f\n",
    "sample_data_transformed = (\n",
    "sample_data_df\n",
    ".rdd\n",
    ".map(lambda row: sql.Row(\n",
    "**row.asDict()\n",
    ", Email_UserName=row.Email.split('@')[0]\n",
    ")\n",
    ")\n",
    ".map(lambda row: sql.Row(\n",
    "**row.asDict()\n",
    ", Email_Provider=row.Email.split('@')[1]\n",
    ")\n",
    ")\n",
    ".toDF()\n",
    ".select(\n",
    "sample_data_df.columns +\n",
    "[\n",
    "'Email_Provider'\n",
    ", 'Email_UserName'\n",
    "])\n",
    ")\n",
    "sample_data_transformed.show()"
   ]
  },
  {
   "cell_type": "code",
   "execution_count": null,
   "metadata": {},
   "outputs": [],
   "source": []
  },
  {
   "cell_type": "code",
   "execution_count": 24,
   "metadata": {},
   "outputs": [
    {
     "name": "stdout",
     "output_type": "stream",
     "text": [
      "+-----+---------------+----------+---------+--------------------+-----------------+--------------------+--------------------+--------------------+--------------------+-----------------+--------------------+--------------+----------------+---------------+\n",
      "|Index|    Customer Id|First Name|Last Name|             Company|             City|             Country|             Phone 1|             Phone 2|               Email|Subscription Date|             Website|Email_Provider|  Email_UserName|       Industry|\n",
      "+-----+---------------+----------+---------+--------------------+-----------------+--------------------+--------------------+--------------------+--------------------+-----------------+--------------------+--------------+----------------+---------------+\n",
      "|    5|053d585Ab6b3159|    Joanna|   Bender|     Rasmussen Group|   West Priscilla|Slovakia (Slovak ...|001-234-203-0635x...|001-199-446-3860x...|colinalvarado@mil...|       2021-04-17|https://goodwin-i...|     miles.net|   colinalvarado|        Textile|\n",
      "|    4|5Cef8BFA16c5e3c|     Linda|    Olsen|Dominguez, Mcmill...|       Bensonview|  Dominican Republic|001-808-617-6467x...|     +1-813-324-8756|stanleyblackwell@...|       2020-06-02|http://www.good-l...|    benson.org|stanleyblackwell|         Pharma|\n",
      "|    2|1Ef7b82A4CAAD10|   Preston|   Lozano|         Vega-Gentry|East Jimmychester|            Djibouti|          5153435776|    686-620-1820x944|     vmata@colon.com|       2021-04-23|http://www.hobbs....|     colon.com|           vmata|Heavy Machinery|\n",
      "|    1|DD37Cf93aecA6Dc|    Sheryl|   Baxter|     Rasmussen Group|     East Leonard|               Chile|        229.077.5154|    397.884.0519x718|zunigavanessa@smi...|       2020-08-24|http://www.stephe...|    smith.info|   zunigavanessa|        Textile|\n",
      "|    3|6F94879bDAfE5a6|       Roy|    Berry|       Murillo-Perry|    Isabelborough| Antigua and Barbuda|     +1-539-402-0259| (496)978-3969x58947| beckycarr@hogan.com|       2020-03-25|http://www.lawren...|     hogan.com|       beckycarr|        Service|\n",
      "+-----+---------------+----------+---------+--------------------+-----------------+--------------------+--------------------+--------------------+--------------------+-----------------+--------------------+--------------+----------------+---------------+\n",
      "\n"
     ]
    }
   ],
   "source": [
    "#Task 4 Using Left Join SQL command to interact with the dataframes\n",
    "\n",
    "company_df = sc.parallelize([\n",
    "    (\"Rasmussen Group\", \"Textile\"),\n",
    "    (\"Murillo-Perry\", \"Service\"),\n",
    "    (\"Dominguez, Mcmillan and Donovan\", \"Pharma\"),\n",
    "    (\"Vega-Gentry\", \"Heavy Machinery\")\n",
    "]).toDF([\"Company\", \"Industry\"])\n",
    "company_df.createOrReplaceTempView('industries')\n",
    "sample_data_transformed.createOrReplaceTempView('employee')\n",
    "spark.sql('''\n",
    "SELECT a.*\n",
    ", b.Industry\n",
    "FROM employee AS a\n",
    "LEFT JOIN industries AS b\n",
    "ON a.Company==b.Company\n",
    "ORDER BY Country DESC\n",
    "''').show()"
   ]
  },
  {
   "cell_type": "code",
   "execution_count": 25,
   "metadata": {},
   "outputs": [
    {
     "name": "stdout",
     "output_type": "stream",
     "text": [
      "+-----+---------------+----------+---------+--------------------+-----------------+--------------------+--------------------+--------------------+--------------------+-----------------+--------------------+--------------+----------------+\n",
      "|Index|    Customer Id|First Name|Last Name|             Company|             City|             Country|             Phone 1|             Phone 2|               Email|Subscription Date|             Website|Email_Provider|  Email_UserName|\n",
      "+-----+---------------+----------+---------+--------------------+-----------------+--------------------+--------------------+--------------------+--------------------+-----------------+--------------------+--------------+----------------+\n",
      "|    1|DD37Cf93aecA6Dc|    Sheryl|   Baxter|     Rasmussen Group|     East Leonard|               Chile|        229.077.5154|    397.884.0519x718|zunigavanessa@smi...|       2020-08-24|http://www.stephe...|    smith.info|   zunigavanessa|\n",
      "|    2|1Ef7b82A4CAAD10|   Preston|   Lozano|         Vega-Gentry|East Jimmychester|            Djibouti|          5153435776|    686-620-1820x944|     vmata@colon.com|       2021-04-23|http://www.hobbs....|     colon.com|           vmata|\n",
      "|    3|6F94879bDAfE5a6|       Roy|    Berry|       Murillo-Perry|    Isabelborough| Antigua and Barbuda|     +1-539-402-0259| (496)978-3969x58947| beckycarr@hogan.com|       2020-03-25|http://www.lawren...|     hogan.com|       beckycarr|\n",
      "|    4|5Cef8BFA16c5e3c|     Linda|    Olsen|Dominguez, Mcmill...|       Bensonview|  Dominican Republic|001-808-617-6467x...|     +1-813-324-8756|stanleyblackwell@...|       2020-06-02|http://www.good-l...|    benson.org|stanleyblackwell|\n",
      "|    5|053d585Ab6b3159|    Joanna|   Bender|     Rasmussen Group|   West Priscilla|Slovakia (Slovak ...|001-234-203-0635x...|001-199-446-3860x...|colinalvarado@mil...|       2021-04-17|https://goodwin-i...|     miles.net|   colinalvarado|\n",
      "+-----+---------------+----------+---------+--------------------+-----------------+--------------------+--------------------+--------------------+--------------------+-----------------+--------------------+--------------+----------------+\n",
      "\n"
     ]
    }
   ],
   "source": [
    "#Task 5 Use Dataframe transformation commands and show the results obtained\n",
    "\n",
    "sample_data_transformed.cache().show()\n"
   ]
  },
  {
   "cell_type": "code",
   "execution_count": 26,
   "metadata": {},
   "outputs": [
    {
     "name": "stdout",
     "output_type": "stream",
     "text": [
      "+-----+---------------+----------+---------+--------------------+-----------------+--------------------+--------------------+--------------------+--------------------+-----------------+--------------------+--------------+----------------+\n",
      "|Index|    Customer Id|First Name|Last Name|             Company|             City|             Country|             Phone 1|             Phone 2|               Email|Subscription Date|             Website|Email_Provider|  Email_UserName|\n",
      "+-----+---------------+----------+---------+--------------------+-----------------+--------------------+--------------------+--------------------+--------------------+-----------------+--------------------+--------------+----------------+\n",
      "|    1|DD37Cf93aecA6Dc|    Sheryl|   Baxter|     Rasmussen Group|     East Leonard|               Chile|        229.077.5154|    397.884.0519x718|zunigavanessa@smi...|       2020-08-24|http://www.stephe...|    smith.info|   zunigavanessa|\n",
      "|    2|1Ef7b82A4CAAD10|   Preston|   Lozano|         Vega-Gentry|East Jimmychester|            Djibouti|          5153435776|    686-620-1820x944|     vmata@colon.com|       2021-04-23|http://www.hobbs....|     colon.com|           vmata|\n",
      "|    3|6F94879bDAfE5a6|       Roy|    Berry|       Murillo-Perry|    Isabelborough| Antigua and Barbuda|     +1-539-402-0259| (496)978-3969x58947| beckycarr@hogan.com|       2020-03-25|http://www.lawren...|     hogan.com|       beckycarr|\n",
      "|    4|5Cef8BFA16c5e3c|     Linda|    Olsen|Dominguez, Mcmill...|       Bensonview|  Dominican Republic|001-808-617-6467x...|     +1-813-324-8756|stanleyblackwell@...|       2020-06-02|http://www.good-l...|    benson.org|stanleyblackwell|\n",
      "|    5|053d585Ab6b3159|    Joanna|   Bender|     Rasmussen Group|   West Priscilla|Slovakia (Slovak ...|001-234-203-0635x...|001-199-446-3860x...|colinalvarado@mil...|       2021-04-17|https://goodwin-i...|     miles.net|   colinalvarado|\n",
      "+-----+---------------+----------+---------+--------------------+-----------------+--------------------+--------------------+--------------------+--------------------+-----------------+--------------------+--------------+----------------+\n",
      "\n"
     ]
    }
   ],
   "source": [
    "sample_data_transformed.coalesce(1).show()\n"
   ]
  },
  {
   "cell_type": "code",
   "execution_count": 27,
   "metadata": {},
   "outputs": [
    {
     "name": "stdout",
     "output_type": "stream",
     "text": [
      "+--------------------+\n",
      "|             Company|\n",
      "+--------------------+\n",
      "|     Rasmussen Group|\n",
      "|         Vega-Gentry|\n",
      "|       Murillo-Perry|\n",
      "|Dominguez, Mcmill...|\n",
      "+--------------------+\n",
      "\n"
     ]
    }
   ],
   "source": [
    "sample_data_transformed.select('Company').distinct().show()\n"
   ]
  },
  {
   "cell_type": "code",
   "execution_count": 28,
   "metadata": {},
   "outputs": [
    {
     "name": "stdout",
     "output_type": "stream",
     "text": [
      "+-----+---------------+----------+---------+--------------------+-----------------+--------------------+--------------------+--------------------+--------------------+-----------------+--------------------+--------------+----------------+\n",
      "|Index|    Customer Id|First Name|Last Name|             Company|             City|             Country|             Phone 1|             Phone 2|               Email|Subscription Date|             Website|Email_Provider|  Email_UserName|\n",
      "+-----+---------------+----------+---------+--------------------+-----------------+--------------------+--------------------+--------------------+--------------------+-----------------+--------------------+--------------+----------------+\n",
      "|    1|DD37Cf93aecA6Dc|    Sheryl|   Baxter|     Rasmussen Group|     East Leonard|               Chile|        229.077.5154|    397.884.0519x718|zunigavanessa@smi...|       2020-08-24|http://www.stephe...|    smith.info|   zunigavanessa|\n",
      "|    2|1Ef7b82A4CAAD10|   Preston|   Lozano|         Vega-Gentry|East Jimmychester|            Djibouti|          5153435776|    686-620-1820x944|     vmata@colon.com|       2021-04-23|http://www.hobbs....|     colon.com|           vmata|\n",
      "|    3|6F94879bDAfE5a6|       Roy|    Berry|       Murillo-Perry|    Isabelborough| Antigua and Barbuda|     +1-539-402-0259| (496)978-3969x58947| beckycarr@hogan.com|       2020-03-25|http://www.lawren...|     hogan.com|       beckycarr|\n",
      "|    4|5Cef8BFA16c5e3c|     Linda|    Olsen|Dominguez, Mcmill...|       Bensonview|  Dominican Republic|001-808-617-6467x...|     +1-813-324-8756|stanleyblackwell@...|       2020-06-02|http://www.good-l...|    benson.org|stanleyblackwell|\n",
      "|    5|053d585Ab6b3159|    Joanna|   Bender|     Rasmussen Group|   West Priscilla|Slovakia (Slovak ...|001-234-203-0635x...|001-199-446-3860x...|colinalvarado@mil...|       2021-04-17|https://goodwin-i...|     miles.net|   colinalvarado|\n",
      "+-----+---------------+----------+---------+--------------------+-----------------+--------------------+--------------------+--------------------+--------------------+-----------------+--------------------+--------------+----------------+\n",
      "\n"
     ]
    }
   ],
   "source": [
    "sample_data_transformed.dropDuplicates().show()"
   ]
  },
  {
   "cell_type": "code",
   "execution_count": 29,
   "metadata": {},
   "outputs": [
    {
     "name": "stdout",
     "output_type": "stream",
     "text": [
      "+-----+---------------+----------+---------+--------------------+-----------------+--------------------+--------------------+--------------------+--------------------+-----------------+--------------------+--------------+----------------+\n",
      "|Index|    Customer Id|First Name|Last Name|             Company|             City|             Country|             Phone 1|             Phone 2|               Email|Subscription Date|             Website|Email_Provider|  Email_UserName|\n",
      "+-----+---------------+----------+---------+--------------------+-----------------+--------------------+--------------------+--------------------+--------------------+-----------------+--------------------+--------------+----------------+\n",
      "|    1|DD37Cf93aecA6Dc|    Sheryl|   Baxter|     Rasmussen Group|     East Leonard|               Chile|        229.077.5154|    397.884.0519x718|zunigavanessa@smi...|       2020-08-24|http://www.stephe...|    smith.info|   zunigavanessa|\n",
      "|    2|1Ef7b82A4CAAD10|   Preston|   Lozano|         Vega-Gentry|East Jimmychester|            Djibouti|          5153435776|    686-620-1820x944|     vmata@colon.com|       2021-04-23|http://www.hobbs....|     colon.com|           vmata|\n",
      "|    3|6F94879bDAfE5a6|       Roy|    Berry|       Murillo-Perry|    Isabelborough| Antigua and Barbuda|     +1-539-402-0259| (496)978-3969x58947| beckycarr@hogan.com|       2020-03-25|http://www.lawren...|     hogan.com|       beckycarr|\n",
      "|    4|5Cef8BFA16c5e3c|     Linda|    Olsen|Dominguez, Mcmill...|       Bensonview|  Dominican Republic|001-808-617-6467x...|     +1-813-324-8756|stanleyblackwell@...|       2020-06-02|http://www.good-l...|    benson.org|stanleyblackwell|\n",
      "|    5|053d585Ab6b3159|    Joanna|   Bender|     Rasmussen Group|   West Priscilla|Slovakia (Slovak ...|001-234-203-0635x...|001-199-446-3860x...|colinalvarado@mil...|       2021-04-17|https://goodwin-i...|     miles.net|   colinalvarado|\n",
      "+-----+---------------+----------+---------+--------------------+-----------------+--------------------+--------------------+--------------------+--------------------+-----------------+--------------------+--------------+----------------+\n",
      "\n"
     ]
    }
   ],
   "source": [
    "\n",
    "sample_data_transformed.dropna().show()"
   ]
  }
 ],
 "metadata": {
  "kernelspec": {
   "display_name": "Python 3",
   "language": "python",
   "name": "python3"
  },
  "language_info": {
   "codemirror_mode": {
    "name": "ipython",
    "version": 3
   },
   "file_extension": ".py",
   "mimetype": "text/x-python",
   "name": "python",
   "nbconvert_exporter": "python",
   "pygments_lexer": "ipython3",
   "version": "3.11.5"
  },
  "orig_nbformat": 4
 },
 "nbformat": 4,
 "nbformat_minor": 2
}
